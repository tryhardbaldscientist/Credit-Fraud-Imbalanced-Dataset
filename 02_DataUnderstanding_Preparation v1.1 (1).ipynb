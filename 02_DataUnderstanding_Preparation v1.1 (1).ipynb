{
 "cells": [
  {
   "cell_type": "markdown",
   "id": "5dd2effb",
   "metadata": {
    "id": "5dd2effb"
   },
   "source": [
    "# 02_DataUnderstanding_Preparation\n",
    "## Sentiment Analysis for MySejahtera Apps\n",
    "### Group members : Queenie, Deva, Ethan Ong, Lawrence, Oscar"
   ]
  },
  {
   "cell_type": "markdown",
   "id": "d8fea172",
   "metadata": {
    "id": "d8fea172"
   },
   "source": [
    "## Content\n",
    "- [Importing Libraries](#Importing-libraries)\n",
    "- [Data Collection](#Data-Collection)\n",
    "- [Data Cleaning and Preprocessing](#Data-Cleaning-and-preprocessing)\n",
    "- [Exploratory Data Analysis](#Exploratory-Data-Analysis)"
   ]
  },
  {
   "cell_type": "markdown",
   "id": "8182ad6a",
   "metadata": {
    "id": "8182ad6a"
   },
   "source": [
    "## Importing libraries"
   ]
  },
  {
   "cell_type": "code",
   "execution_count": 1,
   "id": "a728495e",
   "metadata": {
    "id": "a728495e"
   },
   "outputs": [],
   "source": [
    "import numpy as np\n",
    "import pandas as pd\n",
    "import matplotlib.pyplot as plt\n",
    "import seaborn as sns\n",
    "import re\n",
    "from bs4 import BeautifulSoup\n",
    "from nltk.stem.porter import PorterStemmer\n",
    "from nltk.corpus import stopwords\n",
    "from sklearn.model_selection import train_test_split\n",
    "# from wordcloud import WordCloud, STOPWORDS\n",
    "from sklearn.feature_extraction.text import CountVectorizer\n",
    "from google_play_scraper import Sort, reviews\n",
    "\n",
    "%matplotlib inline"
   ]
  },
  {
   "cell_type": "markdown",
   "id": "a06ffedd",
   "metadata": {
    "id": "a06ffedd"
   },
   "source": [
    "# Data Collection\n",
    "\n",
    "Users can rate and write reviews for MySejahtera's app on GooglePlay with a star rating and thumbs-up system. The ratings are on a 5-point scale, with 1 being the lowest rate score and 5 being the highest rate score. The goal of the project is to predict the review written is classified as positive or negative sentiment based on textual data. Our group will scrape real user reviews on GooglePlay using GooglePlay Scraper. \n",
    "\n",
    "Google-Play-Scraper provides an API to crawl through Google Play. We used pip install google-play-scraper to install the package and scraped users' reviews and rating scores on MySejahtera's app.\n",
    "\n",
    "The reviews were collected in batches, according to their scores (1-5). This was done in an attempt to achieve a balanced dataset with roughly the same number of reviews for each score. Also, in order to gather reviews that had more text and were written recently, we set up the google play scraper to scrape from both review types, 'Most relevant' and 'Newest'."
   ]
  },
  {
   "cell_type": "markdown",
   "id": "b443af1a",
   "metadata": {
    "id": "b443af1a"
   },
   "source": [
    "#### Pre-installation for GooglePlay Scraper\n",
    "\n",
    "_Data Collection part will be commented out to prevent accidentally generate a second set of data._"
   ]
  },
  {
   "cell_type": "code",
   "execution_count": 2,
   "id": "33846db9",
   "metadata": {
    "id": "33846db9"
   },
   "outputs": [],
   "source": [
    "#pip install google-play-scraper"
   ]
  },
  {
   "cell_type": "code",
   "execution_count": 3,
   "id": "079d962a",
   "metadata": {
    "id": "079d962a"
   },
   "outputs": [],
   "source": [
    "# app_pick = {\n",
    "#     \"mysj\": (\"my.gov.onegovappstore.mysejahtera\", \"mysj_android_reviews.csv\", \"mysj_android_reviews_parsed.csv\"),\n",
    "# }\n",
    "\n",
    "# android_app_package, file_reviews_csv, file_reviews_parsed_csv = app_pick[\"mysj\"]\n",
    "# print(f\"Pick {android_app_package}\")"
   ]
  },
  {
   "cell_type": "code",
   "execution_count": 4,
   "id": "bbc95e74",
   "metadata": {
    "id": "bbc95e74"
   },
   "outputs": [],
   "source": [
    "# # Function to scrape reviews on google play store\n",
    "# # app: the url of the app we want to scrape\n",
    "# # score: number of stars rated by users\n",
    "# # n_loops: the number of loops to collect reviews in batches of 200\n",
    "\n",
    "# def reviews_scraper(app, score, n_loops):\n",
    "#      app_reviews_tmp = []\n",
    "#      for sort_order in [Sort.MOST_RELEVANT, Sort.NEWEST]: # Collect both reviews types - 'most relevant' and 'newest'\n",
    "#          for i in range(n_loops):\n",
    "#              rvs, continuation_token = reviews(app,\n",
    "#                                                lang='en',\n",
    "#                                                country='my',\n",
    "#                                                sort=sort_order,\n",
    "#                                                count=200, # 200 is the maximum number of reviews per page supported by Google Play\n",
    "#                                                filter_score_with=score,\n",
    "#                                                continuation_token=None if i==0 else continuation_token) # To begin crawling from where it last left off\n",
    "#              for r in rvs:\n",
    "#                  r['sort_order'] = 'most_relevant' if sort_order == Sort.MOST_RELEVANT else 'newest'\n",
    "#                  r['app_id'] = app\n",
    "#              app_reviews_tmp.extend(rvs)\n",
    "#              print(f'No. of reviews collected (score {score}): ' + str(len(rvs)))\n",
    "#      return app_reviews_tmp"
   ]
  },
  {
   "cell_type": "code",
   "execution_count": 5,
   "id": "2041b032",
   "metadata": {
    "id": "2041b032"
   },
   "outputs": [],
   "source": [
    "# rev_score1 = reviews_scraper(app=android_app_package, score=1, n_loops=5)\n",
    "# rev_score2 = reviews_scraper(app=android_app_package, score=2, n_loops=5)\n",
    "# rev_score3 = reviews_scraper(app=android_app_package, score=3, n_loops=5)\n",
    "# rev_score4 = reviews_scraper(app=android_app_package, score=4, n_loops=5)\n",
    "# rev_score5 = reviews_scraper(app=android_app_package, score=5, n_loops=5)\n",
    "# app_reviews = rev_score1 + rev_score2 + rev_score3 + rev_score4 + rev_score5\n",
    "# print(f\"Collected records: {len(app_reviews)}\")"
   ]
  },
  {
   "cell_type": "code",
   "execution_count": 6,
   "id": "63e6d235",
   "metadata": {
    "id": "63e6d235"
   },
   "outputs": [],
   "source": [
    "# pd.DataFrame(app_reviews).to_csv(f'C:/Users/eoa/Downloads/{file_reviews_csv}', index=False)\n"
   ]
  },
  {
   "cell_type": "code",
   "execution_count": 7,
   "id": "4ff4597a",
   "metadata": {
    "id": "4ff4597a"
   },
   "outputs": [],
   "source": [
    "review_data = pd.read_csv('C:/Users/oscar/Desktop/UM/WQD7003 Data Analytics/mysj_android_reviews.csv', parse_dates = ['at', 'repliedAt'])\n"
   ]
  },
  {
   "cell_type": "code",
   "execution_count": 8,
   "id": "93e8c943",
   "metadata": {
    "id": "93e8c943",
    "outputId": "9663c44f-937f-4373-c392-e3d026bfdea1"
   },
   "outputs": [
    {
     "data": {
      "text/html": [
       "<div>\n",
       "<style scoped>\n",
       "    .dataframe tbody tr th:only-of-type {\n",
       "        vertical-align: middle;\n",
       "    }\n",
       "\n",
       "    .dataframe tbody tr th {\n",
       "        vertical-align: top;\n",
       "    }\n",
       "\n",
       "    .dataframe thead th {\n",
       "        text-align: right;\n",
       "    }\n",
       "</style>\n",
       "<table border=\"1\" class=\"dataframe\">\n",
       "  <thead>\n",
       "    <tr style=\"text-align: right;\">\n",
       "      <th></th>\n",
       "      <th>reviewId</th>\n",
       "      <th>userName</th>\n",
       "      <th>userImage</th>\n",
       "      <th>content</th>\n",
       "      <th>score</th>\n",
       "      <th>thumbsUpCount</th>\n",
       "      <th>reviewCreatedVersion</th>\n",
       "      <th>at</th>\n",
       "      <th>replyContent</th>\n",
       "      <th>repliedAt</th>\n",
       "      <th>sort_order</th>\n",
       "      <th>app_id</th>\n",
       "    </tr>\n",
       "  </thead>\n",
       "  <tbody>\n",
       "    <tr>\n",
       "      <th>0</th>\n",
       "      <td>ce335359-73d9-4fa6-a487-4c66cef04495</td>\n",
       "      <td>pao yin lee</td>\n",
       "      <td>https://play-lh.googleusercontent.com/a/ALm5wu...</td>\n",
       "      <td>Some buttons are unable to function. I am tire...</td>\n",
       "      <td>1</td>\n",
       "      <td>494</td>\n",
       "      <td>1.0.35</td>\n",
       "      <td>2021-07-06 20:32:00</td>\n",
       "      <td>Dear User, Kindly force close your app and try...</td>\n",
       "      <td>2021-08-06 14:22:00</td>\n",
       "      <td>most_relevant</td>\n",
       "      <td>my.gov.onegovappstore.mysejahtera</td>\n",
       "    </tr>\n",
       "    <tr>\n",
       "      <th>1</th>\n",
       "      <td>81adb7e4-4b1a-467b-abb3-777e8f06bedc</td>\n",
       "      <td>Eleanor Chooi</td>\n",
       "      <td>https://play-lh.googleusercontent.com/a/ALm5wu...</td>\n",
       "      <td>After updating to the latest version which ena...</td>\n",
       "      <td>1</td>\n",
       "      <td>361</td>\n",
       "      <td>1.0.48</td>\n",
       "      <td>2021-10-21 15:38:00</td>\n",
       "      <td>Hello, please give app permission to access fi...</td>\n",
       "      <td>2021-10-21 16:49:00</td>\n",
       "      <td>most_relevant</td>\n",
       "      <td>my.gov.onegovappstore.mysejahtera</td>\n",
       "    </tr>\n",
       "    <tr>\n",
       "      <th>2</th>\n",
       "      <td>3b5c2452-156b-45c3-b663-954052103ddd</td>\n",
       "      <td>Irene Lee</td>\n",
       "      <td>https://play-lh.googleusercontent.com/a/ALm5wu...</td>\n",
       "      <td>With the new tracking function automatically a...</td>\n",
       "      <td>1</td>\n",
       "      <td>201</td>\n",
       "      <td>1.1.4</td>\n",
       "      <td>2022-01-01 20:28:00</td>\n",
       "      <td>Dear user, kindly go to device settings &gt; apps...</td>\n",
       "      <td>2022-07-01 10:49:00</td>\n",
       "      <td>most_relevant</td>\n",
       "      <td>my.gov.onegovappstore.mysejahtera</td>\n",
       "    </tr>\n",
       "    <tr>\n",
       "      <th>3</th>\n",
       "      <td>2c9ed39c-ce1a-49d3-8310-6f093274078d</td>\n",
       "      <td>Nashrul Iqram</td>\n",
       "      <td>https://play-lh.googleusercontent.com/a-/ACNPE...</td>\n",
       "      <td>This app is good, but the one that bugs me the...</td>\n",
       "      <td>1</td>\n",
       "      <td>40</td>\n",
       "      <td>1.0.39</td>\n",
       "      <td>2021-07-29 16:43:00</td>\n",
       "      <td>Dear User, We are truly sorry for your unpleas...</td>\n",
       "      <td>2021-05-03 17:47:00</td>\n",
       "      <td>most_relevant</td>\n",
       "      <td>my.gov.onegovappstore.mysejahtera</td>\n",
       "    </tr>\n",
       "    <tr>\n",
       "      <th>4</th>\n",
       "      <td>e8ac5477-ae62-4607-933f-5ed9ac86a0ef</td>\n",
       "      <td>Teik Lee Teoh</td>\n",
       "      <td>https://play-lh.googleusercontent.com/a-/ACNPE...</td>\n",
       "      <td>The latest update for MySJ trace is just utter...</td>\n",
       "      <td>1</td>\n",
       "      <td>349</td>\n",
       "      <td>1.1.4</td>\n",
       "      <td>2022-04-01 09:04:00</td>\n",
       "      <td>Dear User, We are truly sorry for your unpleas...</td>\n",
       "      <td>2022-11-01 12:12:00</td>\n",
       "      <td>most_relevant</td>\n",
       "      <td>my.gov.onegovappstore.mysejahtera</td>\n",
       "    </tr>\n",
       "  </tbody>\n",
       "</table>\n",
       "</div>"
      ],
      "text/plain": [
       "                               reviewId       userName  \\\n",
       "0  ce335359-73d9-4fa6-a487-4c66cef04495    pao yin lee   \n",
       "1  81adb7e4-4b1a-467b-abb3-777e8f06bedc  Eleanor Chooi   \n",
       "2  3b5c2452-156b-45c3-b663-954052103ddd      Irene Lee   \n",
       "3  2c9ed39c-ce1a-49d3-8310-6f093274078d  Nashrul Iqram   \n",
       "4  e8ac5477-ae62-4607-933f-5ed9ac86a0ef  Teik Lee Teoh   \n",
       "\n",
       "                                           userImage  \\\n",
       "0  https://play-lh.googleusercontent.com/a/ALm5wu...   \n",
       "1  https://play-lh.googleusercontent.com/a/ALm5wu...   \n",
       "2  https://play-lh.googleusercontent.com/a/ALm5wu...   \n",
       "3  https://play-lh.googleusercontent.com/a-/ACNPE...   \n",
       "4  https://play-lh.googleusercontent.com/a-/ACNPE...   \n",
       "\n",
       "                                             content  score  thumbsUpCount  \\\n",
       "0  Some buttons are unable to function. I am tire...      1            494   \n",
       "1  After updating to the latest version which ena...      1            361   \n",
       "2  With the new tracking function automatically a...      1            201   \n",
       "3  This app is good, but the one that bugs me the...      1             40   \n",
       "4  The latest update for MySJ trace is just utter...      1            349   \n",
       "\n",
       "  reviewCreatedVersion                  at  \\\n",
       "0               1.0.35 2021-07-06 20:32:00   \n",
       "1               1.0.48 2021-10-21 15:38:00   \n",
       "2                1.1.4 2022-01-01 20:28:00   \n",
       "3               1.0.39 2021-07-29 16:43:00   \n",
       "4                1.1.4 2022-04-01 09:04:00   \n",
       "\n",
       "                                        replyContent           repliedAt  \\\n",
       "0  Dear User, Kindly force close your app and try... 2021-08-06 14:22:00   \n",
       "1  Hello, please give app permission to access fi... 2021-10-21 16:49:00   \n",
       "2  Dear user, kindly go to device settings > apps... 2022-07-01 10:49:00   \n",
       "3  Dear User, We are truly sorry for your unpleas... 2021-05-03 17:47:00   \n",
       "4  Dear User, We are truly sorry for your unpleas... 2022-11-01 12:12:00   \n",
       "\n",
       "      sort_order                             app_id  \n",
       "0  most_relevant  my.gov.onegovappstore.mysejahtera  \n",
       "1  most_relevant  my.gov.onegovappstore.mysejahtera  \n",
       "2  most_relevant  my.gov.onegovappstore.mysejahtera  \n",
       "3  most_relevant  my.gov.onegovappstore.mysejahtera  \n",
       "4  most_relevant  my.gov.onegovappstore.mysejahtera  "
      ]
     },
     "execution_count": 8,
     "metadata": {},
     "output_type": "execute_result"
    }
   ],
   "source": [
    "# To display the first 5 row of data\n",
    "review_data.head()"
   ]
  },
  {
   "cell_type": "code",
   "execution_count": 9,
   "id": "e56014f1",
   "metadata": {
    "id": "e56014f1",
    "outputId": "f4d0c035-e2a2-4a72-fa69-465f8567eaa9"
   },
   "outputs": [
    {
     "data": {
      "text/plain": [
       "(10000, 12)"
      ]
     },
     "execution_count": 9,
     "metadata": {},
     "output_type": "execute_result"
    }
   ],
   "source": [
    "# 10,000 rows of data is extracted\n",
    "review_data.shape"
   ]
  },
  {
   "cell_type": "code",
   "execution_count": 10,
   "id": "678ef21d",
   "metadata": {
    "id": "678ef21d",
    "outputId": "bdb2e56a-a019-4cbe-f331-b12a71e417f4"
   },
   "outputs": [
    {
     "data": {
      "text/plain": [
       "<bound method DataFrame.info of                                   reviewId                   userName  \\\n",
       "0     ce335359-73d9-4fa6-a487-4c66cef04495                pao yin lee   \n",
       "1     81adb7e4-4b1a-467b-abb3-777e8f06bedc              Eleanor Chooi   \n",
       "2     3b5c2452-156b-45c3-b663-954052103ddd                  Irene Lee   \n",
       "3     2c9ed39c-ce1a-49d3-8310-6f093274078d              Nashrul Iqram   \n",
       "4     e8ac5477-ae62-4607-933f-5ed9ac86a0ef              Teik Lee Teoh   \n",
       "...                                    ...                        ...   \n",
       "9995  62b6a1eb-bd20-417d-9f8c-5eb4ac0802ca                  Rose Wati   \n",
       "9996  f3e5615a-a4d6-43cd-acca-fa779b939613      Elizabeth Regina Mary   \n",
       "9997  5f4490b9-43ed-40c1-ad49-97f50c014446           Prakash Muniandy   \n",
       "9998  e96475be-89ae-432c-9da3-11b35fb872a5                Fitri Rosli   \n",
       "9999  57d31ff3-4ed3-45ce-a701-1792973fb463  Akmalhakim88 Akmalhakim88   \n",
       "\n",
       "                                              userImage  \\\n",
       "0     https://play-lh.googleusercontent.com/a/ALm5wu...   \n",
       "1     https://play-lh.googleusercontent.com/a/ALm5wu...   \n",
       "2     https://play-lh.googleusercontent.com/a/ALm5wu...   \n",
       "3     https://play-lh.googleusercontent.com/a-/ACNPE...   \n",
       "4     https://play-lh.googleusercontent.com/a-/ACNPE...   \n",
       "...                                                 ...   \n",
       "9995  https://play-lh.googleusercontent.com/a/ALm5wu...   \n",
       "9996  https://play-lh.googleusercontent.com/a-/ACNPE...   \n",
       "9997  https://play-lh.googleusercontent.com/a/ALm5wu...   \n",
       "9998  https://play-lh.googleusercontent.com/a/ALm5wu...   \n",
       "9999  https://play-lh.googleusercontent.com/a/ALm5wu...   \n",
       "\n",
       "                                                content  score  thumbsUpCount  \\\n",
       "0     Some buttons are unable to function. I am tire...      1            494   \n",
       "1     After updating to the latest version which ena...      1            361   \n",
       "2     With the new tracking function automatically a...      1            201   \n",
       "3     This app is good, but the one that bugs me the...      1             40   \n",
       "4     The latest update for MySJ trace is just utter...      1            349   \n",
       "...                                                 ...    ...            ...   \n",
       "9995                                          Very good      5              0   \n",
       "9996                            Love the new experience      5              0   \n",
       "9997                                               Good      5              0   \n",
       "9998  I'm gonna tell my grandchildren about this app...      5              0   \n",
       "9999                                                 Gg      5              1   \n",
       "\n",
       "     reviewCreatedVersion                  at  \\\n",
       "0                  1.0.35 2021-07-06 20:32:00   \n",
       "1                  1.0.48 2021-10-21 15:38:00   \n",
       "2                   1.1.4 2022-01-01 20:28:00   \n",
       "3                  1.0.39 2021-07-29 16:43:00   \n",
       "4                   1.1.4 2022-04-01 09:04:00   \n",
       "...                   ...                 ...   \n",
       "9995                1.1.6 2022-03-29 07:15:00   \n",
       "9996                1.1.8 2022-03-29 07:10:00   \n",
       "9997               1.0.45 2022-03-29 06:17:00   \n",
       "9998                  NaN 2022-03-29 05:57:00   \n",
       "9999                1.1.8 2022-03-28 22:50:00   \n",
       "\n",
       "                                           replyContent           repliedAt  \\\n",
       "0     Dear User, Kindly force close your app and try... 2021-08-06 14:22:00   \n",
       "1     Hello, please give app permission to access fi... 2021-10-21 16:49:00   \n",
       "2     Dear user, kindly go to device settings > apps... 2022-07-01 10:49:00   \n",
       "3     Dear User, We are truly sorry for your unpleas... 2021-05-03 17:47:00   \n",
       "4     Dear User, We are truly sorry for your unpleas... 2022-11-01 12:12:00   \n",
       "...                                                 ...                 ...   \n",
       "9995                                                NaN                 NaT   \n",
       "9996                                                NaN                 NaT   \n",
       "9997                                                NaN                 NaT   \n",
       "9998                                                NaN                 NaT   \n",
       "9999                                                NaN                 NaT   \n",
       "\n",
       "         sort_order                             app_id  \n",
       "0     most_relevant  my.gov.onegovappstore.mysejahtera  \n",
       "1     most_relevant  my.gov.onegovappstore.mysejahtera  \n",
       "2     most_relevant  my.gov.onegovappstore.mysejahtera  \n",
       "3     most_relevant  my.gov.onegovappstore.mysejahtera  \n",
       "4     most_relevant  my.gov.onegovappstore.mysejahtera  \n",
       "...             ...                                ...  \n",
       "9995         newest  my.gov.onegovappstore.mysejahtera  \n",
       "9996         newest  my.gov.onegovappstore.mysejahtera  \n",
       "9997         newest  my.gov.onegovappstore.mysejahtera  \n",
       "9998         newest  my.gov.onegovappstore.mysejahtera  \n",
       "9999         newest  my.gov.onegovappstore.mysejahtera  \n",
       "\n",
       "[10000 rows x 12 columns]>"
      ]
     },
     "execution_count": 10,
     "metadata": {},
     "output_type": "execute_result"
    }
   ],
   "source": [
    "review_data.info"
   ]
  },
  {
   "cell_type": "code",
   "execution_count": 11,
   "id": "e712f690",
   "metadata": {
    "id": "e712f690",
    "outputId": "1eb13b47-3637-4cef-af9e-947b288bcc54"
   },
   "outputs": [
    {
     "data": {
      "text/plain": [
       "reviewId                   0\n",
       "userName                   0\n",
       "userImage                  0\n",
       "content                    1\n",
       "score                      0\n",
       "thumbsUpCount              0\n",
       "reviewCreatedVersion    1092\n",
       "at                         0\n",
       "replyContent            3718\n",
       "repliedAt               3718\n",
       "sort_order                 0\n",
       "app_id                     0\n",
       "dtype: int64"
      ]
     },
     "execution_count": 11,
     "metadata": {},
     "output_type": "execute_result"
    }
   ],
   "source": [
    "# There is some null values in app versions and developer replies and one null value in user content\n",
    "review_data.isnull().sum()"
   ]
  },
  {
   "cell_type": "code",
   "execution_count": 12,
   "id": "c0f5cba5",
   "metadata": {
    "id": "c0f5cba5",
    "outputId": "d5da5b71-bbc0-4383-c3c6-24d0d1742564"
   },
   "outputs": [
    {
     "data": {
      "text/plain": [
       "1    2000\n",
       "2    2000\n",
       "3    2000\n",
       "4    2000\n",
       "5    2000\n",
       "Name: score, dtype: int64"
      ]
     },
     "execution_count": 12,
     "metadata": {},
     "output_type": "execute_result"
    }
   ],
   "source": [
    "# Check how many records are retrieved from each type of rating score.\n",
    "review_data['score'].value_counts().sort_index()"
   ]
  },
  {
   "cell_type": "markdown",
   "id": "17484371",
   "metadata": {
    "id": "17484371"
   },
   "source": [
    "# Data Cleaning and preprocessing"
   ]
  },
  {
   "cell_type": "markdown",
   "id": "50d02a0b",
   "metadata": {
    "id": "50d02a0b"
   },
   "source": [
    "## Data Cleaning"
   ]
  },
  {
   "cell_type": "code",
   "execution_count": 13,
   "id": "bf77a333",
   "metadata": {
    "id": "bf77a333",
    "outputId": "2505daa4-39ba-4def-b814-4dc4eb5e7f74"
   },
   "outputs": [
    {
     "data": {
      "text/html": [
       "<div>\n",
       "<style scoped>\n",
       "    .dataframe tbody tr th:only-of-type {\n",
       "        vertical-align: middle;\n",
       "    }\n",
       "\n",
       "    .dataframe tbody tr th {\n",
       "        vertical-align: top;\n",
       "    }\n",
       "\n",
       "    .dataframe thead th {\n",
       "        text-align: right;\n",
       "    }\n",
       "</style>\n",
       "<table border=\"1\" class=\"dataframe\">\n",
       "  <thead>\n",
       "    <tr style=\"text-align: right;\">\n",
       "      <th></th>\n",
       "      <th>reviewId</th>\n",
       "      <th>userName</th>\n",
       "      <th>userImage</th>\n",
       "      <th>content</th>\n",
       "      <th>score</th>\n",
       "      <th>thumbsUpCount</th>\n",
       "      <th>reviewCreatedVersion</th>\n",
       "      <th>at</th>\n",
       "      <th>replyContent</th>\n",
       "      <th>repliedAt</th>\n",
       "      <th>sort_order</th>\n",
       "      <th>app_id</th>\n",
       "    </tr>\n",
       "  </thead>\n",
       "  <tbody>\n",
       "    <tr>\n",
       "      <th>7922</th>\n",
       "      <td>ecde6b48-91f4-496c-9c29-177a7e97d8ac</td>\n",
       "      <td>Azhar Mat daud</td>\n",
       "      <td>https://play-lh.googleusercontent.com/a-/ACNPE...</td>\n",
       "      <td>NaN</td>\n",
       "      <td>4</td>\n",
       "      <td>0</td>\n",
       "      <td>1.1.4</td>\n",
       "      <td>2021-12-30 10:40:00</td>\n",
       "      <td>NaN</td>\n",
       "      <td>NaT</td>\n",
       "      <td>newest</td>\n",
       "      <td>my.gov.onegovappstore.mysejahtera</td>\n",
       "    </tr>\n",
       "  </tbody>\n",
       "</table>\n",
       "</div>"
      ],
      "text/plain": [
       "                                  reviewId        userName  \\\n",
       "7922  ecde6b48-91f4-496c-9c29-177a7e97d8ac  Azhar Mat daud   \n",
       "\n",
       "                                              userImage content  score  \\\n",
       "7922  https://play-lh.googleusercontent.com/a-/ACNPE...     NaN      4   \n",
       "\n",
       "      thumbsUpCount reviewCreatedVersion                  at replyContent  \\\n",
       "7922              0                1.1.4 2021-12-30 10:40:00          NaN   \n",
       "\n",
       "     repliedAt sort_order                             app_id  \n",
       "7922       NaT     newest  my.gov.onegovappstore.mysejahtera  "
      ]
     },
     "execution_count": 13,
     "metadata": {},
     "output_type": "execute_result"
    }
   ],
   "source": [
    "#811 duplicated row of data\n",
    "review_data[review_data.duplicated(['userName', 'content', 'at'])].shape\n",
    "\n",
    "# Check the null value in content data which is row 7922\n",
    "review_data.loc[review_data[\"content\"].isnull()]"
   ]
  },
  {
   "cell_type": "code",
   "execution_count": 14,
   "id": "0ae103b0",
   "metadata": {
    "id": "0ae103b0"
   },
   "outputs": [],
   "source": [
    "#drop duplicated data\n",
    "\n",
    "review_data.drop_duplicates(['userName', 'content', 'at'], inplace=True)\n",
    "\n",
    "#drop row 7922 data which contains null value in content column\n",
    "review_data.drop(7922,inplace=True)"
   ]
  },
  {
   "cell_type": "code",
   "execution_count": 15,
   "id": "9ef197b9",
   "metadata": {
    "id": "9ef197b9",
    "outputId": "677f50ae-b1b5-4dd7-eadb-2cd13cbebbf4"
   },
   "outputs": [
    {
     "data": {
      "text/plain": [
       "(9188, 12)"
      ]
     },
     "execution_count": 15,
     "metadata": {},
     "output_type": "execute_result"
    }
   ],
   "source": [
    "# Reindex the dataframe\n",
    "review_data.reset_index(drop=True, inplace=True)\n",
    "\n",
    "#9189 rows of data left after dropping duplicated\n",
    "review_data.shape"
   ]
  },
  {
   "cell_type": "code",
   "execution_count": 16,
   "id": "adbafa5d",
   "metadata": {
    "id": "adbafa5d",
    "outputId": "44da3e56-6d14-47c2-9d8a-48e921eba011"
   },
   "outputs": [
    {
     "data": {
      "text/plain": [
       "1    1835\n",
       "2    1721\n",
       "3    1812\n",
       "4    1876\n",
       "5    1944\n",
       "Name: score, dtype: int64"
      ]
     },
     "execution_count": 16,
     "metadata": {},
     "output_type": "execute_result"
    }
   ],
   "source": [
    "# Check how many records we have for each rating score after dropping duplicated data\n",
    "review_data['score'].value_counts().sort_index()\n"
   ]
  },
  {
   "cell_type": "code",
   "execution_count": 17,
   "id": "8a287c8d",
   "metadata": {
    "id": "8a287c8d"
   },
   "outputs": [],
   "source": [
    "# Renaming the columns to lowercase and use underscore\n",
    "review_data.rename(columns={'reviewId': 'review_id', \n",
    "                        'userName': 'username', \n",
    "                        'userImage': 'user_image', \n",
    "                        'thumbsUpCount': 'thumbs_up_count', \n",
    "                        'reviewCreatedVersion': 'review_created_version', \n",
    "                        'replyContent': 'reply_content',\n",
    "                        'repliedAt': 'replied_at'},\n",
    "              inplace=True)"
   ]
  },
  {
   "cell_type": "code",
   "execution_count": 18,
   "id": "3e40e186",
   "metadata": {
    "id": "3e40e186"
   },
   "outputs": [],
   "source": [
    "#create a second set of data for experiment 2\n",
    "review_data2 = review_data.copy()"
   ]
  },
  {
   "cell_type": "code",
   "execution_count": 19,
   "id": "4391b7dd",
   "metadata": {
    "id": "4391b7dd"
   },
   "outputs": [],
   "source": [
    "#experiment 1 data set with positive 0 index 5<x<3, 1 index 2<x<1\n",
    "review_data['target'] = review_data['score'].map(lambda x: 1 if x < 3 else 0)"
   ]
  },
  {
   "cell_type": "code",
   "execution_count": 20,
   "id": "b23393bf",
   "metadata": {
    "id": "b23393bf"
   },
   "outputs": [],
   "source": [
    "#experiment 2 dataset with positive 0 index 5<x<4, 1 index 3<x<1\n",
    "review_data2['target'] = review_data['score'].map(lambda x: 1 if x < 4 else 0)"
   ]
  },
  {
   "cell_type": "code",
   "execution_count": 21,
   "id": "b565227c",
   "metadata": {
    "id": "b565227c",
    "outputId": "daccc49c-6b5d-47d9-a701-13027a606735"
   },
   "outputs": [
    {
     "data": {
      "text/plain": [
       "0    5632\n",
       "1    3556\n",
       "Name: target, dtype: int64"
      ]
     },
     "execution_count": 21,
     "metadata": {},
     "output_type": "execute_result"
    }
   ],
   "source": [
    "#dataset experiment 1\n",
    "review_data['target'].value_counts()\n"
   ]
  },
  {
   "cell_type": "code",
   "execution_count": 22,
   "id": "0f9d006d",
   "metadata": {
    "id": "0f9d006d",
    "outputId": "b45733a5-7e9f-4a72-961d-aa6aaca0ba70"
   },
   "outputs": [
    {
     "data": {
      "text/plain": [
       "1    5368\n",
       "0    3820\n",
       "Name: target, dtype: int64"
      ]
     },
     "execution_count": 22,
     "metadata": {},
     "output_type": "execute_result"
    }
   ],
   "source": [
    "#dataset experiment 2\n",
    "review_data2['target'].value_counts()"
   ]
  },
  {
   "cell_type": "markdown",
   "id": "1b7c338a",
   "metadata": {
    "id": "1b7c338a"
   },
   "source": [
    "## Data Preprocessing"
   ]
  },
  {
   "cell_type": "code",
   "execution_count": 23,
   "id": "ca992bd7",
   "metadata": {
    "id": "ca992bd7"
   },
   "outputs": [],
   "source": [
    "def stem_text(raw_text):\n",
    "  \n",
    "    # Remove HTML tags\n",
    "    review_text = BeautifulSoup(raw_text).get_text()\n",
    "    \n",
    "    # Remove non-letters\n",
    "    letters_only = re.sub(\"[^a-zA-Z]\", \" \", review_text)\n",
    "    \n",
    "    # Convert words to lower case and split each word up\n",
    "    words = letters_only.lower().split()\n",
    "    \n",
    "    # Searching through a set is faster than searching through a list \n",
    "    # Hence, we will convert stopwords to a set\n",
    "    stops = set(stopwords.words('english'))\n",
    "    \n",
    "    # Adding on stopwords that were appearing frequently in both positive and negative reviews \n",
    "    stops.update(['app','MySJ','Covid','Covid-19','MySejahtera','COVID-19','pandemic','Bluetooth','mysejahtera']) \n",
    "    \n",
    "    # Remove stopwords\n",
    "    meaningful_words = [w for w in words if w not in stops]\n",
    "        \n",
    "    # Instantiate PorterStemmer\n",
    "    p_stemmer = PorterStemmer()\n",
    "    \n",
    "    # Stem words\n",
    "    meaningful_words = [p_stemmer.stem(w) for w in meaningful_words]        \n",
    "   \n",
    "    # Join words back into one string, with a space in between each word\n",
    "    return(\" \".join(meaningful_words))"
   ]
  },
  {
   "cell_type": "code",
   "execution_count": 24,
   "id": "a89f0bfe",
   "metadata": {
    "id": "a89f0bfe",
    "outputId": "5b36c1aa-3c24-4338-d66e-c0aca83660f7"
   },
   "outputs": [
    {
     "name": "stderr",
     "output_type": "stream",
     "text": [
      "C:\\Users\\oscar\\AppData\\Local\\Programs\\Python\\Python311\\Lib\\site-packages\\bs4\\__init__.py:435: MarkupResemblesLocatorWarning: The input looks more like a filename than markup. You may want to open this file and pass the filehandle into Beautiful Soup.\n",
      "  warnings.warn(\n",
      "C:\\Users\\oscar\\AppData\\Local\\Programs\\Python\\Python311\\Lib\\site-packages\\bs4\\__init__.py:435: MarkupResemblesLocatorWarning: The input looks more like a filename than markup. You may want to open this file and pass the filehandle into Beautiful Soup.\n",
      "  warnings.warn(\n"
     ]
    }
   ],
   "source": [
    "#preprocess raw text dataset #1\n",
    "review_data['content_stem'] = review_data['content'].map(stem_text)\n",
    "\n",
    "# preprocessing raw text dataset #2\n",
    "review_data2['content_stem'] = review_data2['content'].map(stem_text)"
   ]
  },
  {
   "cell_type": "code",
   "execution_count": 25,
   "id": "9ad152f9",
   "metadata": {
    "id": "9ad152f9",
    "outputId": "e84d93de-ad2f-49ba-e6d1-dd5645a3afdc"
   },
   "outputs": [
    {
     "data": {
      "text/plain": [
       "'Some buttons are unable to function. I am tired in trying to reinstall the app again and again. It brings alot of inconveniences, please fix it immediately. For example: when I tried to press the button to check-in, the screen remains unchanged. I understand the government is swamped under the current condition of our country, but a poorly-functional app has the risk to discourage the people to use it. Thank you.'"
      ]
     },
     "execution_count": 25,
     "metadata": {},
     "output_type": "execute_result"
    }
   ],
   "source": [
    "#This is the original text of the first review in our dataset\n",
    "review_data.loc[0]['content']"
   ]
  },
  {
   "cell_type": "code",
   "execution_count": 26,
   "id": "5412d44b",
   "metadata": {
    "id": "5412d44b",
    "outputId": "6fd7715f-1fa5-480e-a4a1-3dc3712bb943"
   },
   "outputs": [
    {
     "data": {
      "text/plain": [
       "'button unabl function tire tri reinstal bring alot inconveni pleas fix immedi exampl tri press button check screen remain unchang understand govern swamp current condit countri poorli function risk discourag peopl use thank'"
      ]
     },
     "execution_count": 26,
     "metadata": {},
     "output_type": "execute_result"
    }
   ],
   "source": [
    "#This is how the text looks like after stemming\n",
    "review_data.loc[0]['content_stem']"
   ]
  },
  {
   "cell_type": "code",
   "execution_count": 27,
   "id": "498f7d62",
   "metadata": {
    "id": "498f7d62"
   },
   "outputs": [],
   "source": [
    "review_data['content_clean_len'] = review_data['content_stem'].str.split().map(len)\n",
    "\n",
    "review_data2['content_clean_len'] = review_data2['content_stem'].str.split().map(len)\n"
   ]
  },
  {
   "cell_type": "code",
   "execution_count": 28,
   "id": "fa6b32a8",
   "metadata": {
    "id": "fa6b32a8",
    "outputId": "dcdd3aa5-2ead-47d1-ad20-4496ddfc4525"
   },
   "outputs": [
    {
     "data": {
      "text/plain": [
       "(96, 15)"
      ]
     },
     "execution_count": 28,
     "metadata": {},
     "output_type": "execute_result"
    }
   ],
   "source": [
    "#96 row of data with no meaningful words\n",
    "review_data[review_data['content_clean_len']==0].shape\n"
   ]
  },
  {
   "cell_type": "code",
   "execution_count": 29,
   "id": "f0688dd5",
   "metadata": {
    "id": "f0688dd5",
    "outputId": "abcd4ca9-3b8b-48b8-ce55-51e23c55e88f"
   },
   "outputs": [
    {
     "data": {
      "text/plain": [
       "1008        👍\n",
       "1094      for\n",
       "1250        🤮\n",
       "1399      🥵🥵🥵\n",
       "1488        👎\n",
       "        ...  \n",
       "8999    👍👍👍👍👍\n",
       "9067        🤗\n",
       "9088       👍🏻\n",
       "9119    👍👍👍👍👍\n",
       "9146     Here\n",
       "Name: content, Length: 96, dtype: object"
      ]
     },
     "execution_count": 29,
     "metadata": {},
     "output_type": "execute_result"
    }
   ],
   "source": [
    "#viewing data\n",
    "\n",
    "review_data[review_data['content_clean_len']==0]['content']\n"
   ]
  },
  {
   "cell_type": "code",
   "execution_count": 30,
   "id": "c13d334d",
   "metadata": {
    "id": "c13d334d"
   },
   "outputs": [],
   "source": [
    "#dropping row without meaningful words\n",
    "\n",
    "review_data = review_data.drop(review_data[review_data['content_clean_len']==0].index)\n",
    "\n",
    "review_data2 = review_data2.drop(review_data2[review_data2['content_clean_len']==0].index)\n",
    "\n",
    "#reset index\n",
    "review_data.reset_index(drop=True, inplace=True)\n",
    "\n",
    "review_data2.reset_index(drop=True, inplace=True)\n"
   ]
  },
  {
   "cell_type": "code",
   "execution_count": 31,
   "id": "aaed2001",
   "metadata": {
    "id": "aaed2001",
    "outputId": "a5f0c2df-52f8-4d14-c6da-1432679b2ccf"
   },
   "outputs": [
    {
     "ename": "ImportError",
     "evalue": "Missing optional dependency 'openpyxl'.  Use pip or conda to install openpyxl.",
     "output_type": "error",
     "traceback": [
      "\u001b[1;31m---------------------------------------------------------------------------\u001b[0m",
      "\u001b[1;31mModuleNotFoundError\u001b[0m                       Traceback (most recent call last)",
      "File \u001b[1;32m~\\AppData\\Local\\Programs\\Python\\Python311\\Lib\\site-packages\\pandas\\compat\\_optional.py:141\u001b[0m, in \u001b[0;36mimport_optional_dependency\u001b[1;34m(name, extra, errors, min_version)\u001b[0m\n\u001b[0;32m    140\u001b[0m \u001b[38;5;28;01mtry\u001b[39;00m:\n\u001b[1;32m--> 141\u001b[0m     module \u001b[38;5;241m=\u001b[39m \u001b[43mimportlib\u001b[49m\u001b[38;5;241;43m.\u001b[39;49m\u001b[43mimport_module\u001b[49m\u001b[43m(\u001b[49m\u001b[43mname\u001b[49m\u001b[43m)\u001b[49m\n\u001b[0;32m    142\u001b[0m \u001b[38;5;28;01mexcept\u001b[39;00m \u001b[38;5;167;01mImportError\u001b[39;00m:\n",
      "File \u001b[1;32m~\\AppData\\Local\\Programs\\Python\\Python311\\Lib\\importlib\\__init__.py:126\u001b[0m, in \u001b[0;36mimport_module\u001b[1;34m(name, package)\u001b[0m\n\u001b[0;32m    125\u001b[0m         level \u001b[38;5;241m+\u001b[39m\u001b[38;5;241m=\u001b[39m \u001b[38;5;241m1\u001b[39m\n\u001b[1;32m--> 126\u001b[0m \u001b[38;5;28;01mreturn\u001b[39;00m \u001b[43m_bootstrap\u001b[49m\u001b[38;5;241;43m.\u001b[39;49m\u001b[43m_gcd_import\u001b[49m\u001b[43m(\u001b[49m\u001b[43mname\u001b[49m\u001b[43m[\u001b[49m\u001b[43mlevel\u001b[49m\u001b[43m:\u001b[49m\u001b[43m]\u001b[49m\u001b[43m,\u001b[49m\u001b[43m \u001b[49m\u001b[43mpackage\u001b[49m\u001b[43m,\u001b[49m\u001b[43m \u001b[49m\u001b[43mlevel\u001b[49m\u001b[43m)\u001b[49m\n",
      "File \u001b[1;32m<frozen importlib._bootstrap>:1206\u001b[0m, in \u001b[0;36m_gcd_import\u001b[1;34m(name, package, level)\u001b[0m\n",
      "File \u001b[1;32m<frozen importlib._bootstrap>:1178\u001b[0m, in \u001b[0;36m_find_and_load\u001b[1;34m(name, import_)\u001b[0m\n",
      "File \u001b[1;32m<frozen importlib._bootstrap>:1142\u001b[0m, in \u001b[0;36m_find_and_load_unlocked\u001b[1;34m(name, import_)\u001b[0m\n",
      "\u001b[1;31mModuleNotFoundError\u001b[0m: No module named 'openpyxl'",
      "\nDuring handling of the above exception, another exception occurred:\n",
      "\u001b[1;31mImportError\u001b[0m                               Traceback (most recent call last)",
      "Cell \u001b[1;32mIn[31], line 4\u001b[0m\n\u001b[0;32m      1\u001b[0m \u001b[38;5;66;03m# To check non-english/gliberrish data manually\u001b[39;00m\n\u001b[0;32m      2\u001b[0m \n\u001b[0;32m      3\u001b[0m \u001b[38;5;66;03m# Load the list of non-english gibberish indexes from an excel file checked manually\u001b[39;00m\n\u001b[1;32m----> 4\u001b[0m df \u001b[38;5;241m=\u001b[39m \u001b[43mpd\u001b[49m\u001b[38;5;241;43m.\u001b[39;49m\u001b[43mread_excel\u001b[49m\u001b[43m(\u001b[49m\u001b[38;5;124;43m'\u001b[39;49m\u001b[38;5;124;43mC:/Users/oscar/Desktop/UM/WQD7003 Data Analytics/list_to_drop.xlsx\u001b[39;49m\u001b[38;5;124;43m'\u001b[39;49m\u001b[43m,\u001b[49m\u001b[43mheader\u001b[49m\u001b[38;5;241;43m=\u001b[39;49m\u001b[38;5;28;43;01mNone\u001b[39;49;00m\u001b[43m)\u001b[49m\n\u001b[0;32m      6\u001b[0m \u001b[38;5;66;03m# Select the column of numbers\u001b[39;00m\n\u001b[0;32m      7\u001b[0m column \u001b[38;5;241m=\u001b[39m df[\u001b[38;5;241m0\u001b[39m]\n",
      "File \u001b[1;32m~\\AppData\\Local\\Programs\\Python\\Python311\\Lib\\site-packages\\pandas\\util\\_decorators.py:211\u001b[0m, in \u001b[0;36mdeprecate_kwarg.<locals>._deprecate_kwarg.<locals>.wrapper\u001b[1;34m(*args, **kwargs)\u001b[0m\n\u001b[0;32m    209\u001b[0m     \u001b[38;5;28;01melse\u001b[39;00m:\n\u001b[0;32m    210\u001b[0m         kwargs[new_arg_name] \u001b[38;5;241m=\u001b[39m new_arg_value\n\u001b[1;32m--> 211\u001b[0m \u001b[38;5;28;01mreturn\u001b[39;00m \u001b[43mfunc\u001b[49m\u001b[43m(\u001b[49m\u001b[38;5;241;43m*\u001b[39;49m\u001b[43margs\u001b[49m\u001b[43m,\u001b[49m\u001b[43m \u001b[49m\u001b[38;5;241;43m*\u001b[39;49m\u001b[38;5;241;43m*\u001b[39;49m\u001b[43mkwargs\u001b[49m\u001b[43m)\u001b[49m\n",
      "File \u001b[1;32m~\\AppData\\Local\\Programs\\Python\\Python311\\Lib\\site-packages\\pandas\\util\\_decorators.py:331\u001b[0m, in \u001b[0;36mdeprecate_nonkeyword_arguments.<locals>.decorate.<locals>.wrapper\u001b[1;34m(*args, **kwargs)\u001b[0m\n\u001b[0;32m    325\u001b[0m \u001b[38;5;28;01mif\u001b[39;00m \u001b[38;5;28mlen\u001b[39m(args) \u001b[38;5;241m>\u001b[39m num_allow_args:\n\u001b[0;32m    326\u001b[0m     warnings\u001b[38;5;241m.\u001b[39mwarn(\n\u001b[0;32m    327\u001b[0m         msg\u001b[38;5;241m.\u001b[39mformat(arguments\u001b[38;5;241m=\u001b[39m_format_argument_list(allow_args)),\n\u001b[0;32m    328\u001b[0m         \u001b[38;5;167;01mFutureWarning\u001b[39;00m,\n\u001b[0;32m    329\u001b[0m         stacklevel\u001b[38;5;241m=\u001b[39mfind_stack_level(),\n\u001b[0;32m    330\u001b[0m     )\n\u001b[1;32m--> 331\u001b[0m \u001b[38;5;28;01mreturn\u001b[39;00m \u001b[43mfunc\u001b[49m\u001b[43m(\u001b[49m\u001b[38;5;241;43m*\u001b[39;49m\u001b[43margs\u001b[49m\u001b[43m,\u001b[49m\u001b[43m \u001b[49m\u001b[38;5;241;43m*\u001b[39;49m\u001b[38;5;241;43m*\u001b[39;49m\u001b[43mkwargs\u001b[49m\u001b[43m)\u001b[49m\n",
      "File \u001b[1;32m~\\AppData\\Local\\Programs\\Python\\Python311\\Lib\\site-packages\\pandas\\io\\excel\\_base.py:482\u001b[0m, in \u001b[0;36mread_excel\u001b[1;34m(io, sheet_name, header, names, index_col, usecols, squeeze, dtype, engine, converters, true_values, false_values, skiprows, nrows, na_values, keep_default_na, na_filter, verbose, parse_dates, date_parser, thousands, decimal, comment, skipfooter, convert_float, mangle_dupe_cols, storage_options)\u001b[0m\n\u001b[0;32m    480\u001b[0m \u001b[38;5;28;01mif\u001b[39;00m \u001b[38;5;129;01mnot\u001b[39;00m \u001b[38;5;28misinstance\u001b[39m(io, ExcelFile):\n\u001b[0;32m    481\u001b[0m     should_close \u001b[38;5;241m=\u001b[39m \u001b[38;5;28;01mTrue\u001b[39;00m\n\u001b[1;32m--> 482\u001b[0m     io \u001b[38;5;241m=\u001b[39m \u001b[43mExcelFile\u001b[49m\u001b[43m(\u001b[49m\u001b[43mio\u001b[49m\u001b[43m,\u001b[49m\u001b[43m \u001b[49m\u001b[43mstorage_options\u001b[49m\u001b[38;5;241;43m=\u001b[39;49m\u001b[43mstorage_options\u001b[49m\u001b[43m,\u001b[49m\u001b[43m \u001b[49m\u001b[43mengine\u001b[49m\u001b[38;5;241;43m=\u001b[39;49m\u001b[43mengine\u001b[49m\u001b[43m)\u001b[49m\n\u001b[0;32m    483\u001b[0m \u001b[38;5;28;01melif\u001b[39;00m engine \u001b[38;5;129;01mand\u001b[39;00m engine \u001b[38;5;241m!=\u001b[39m io\u001b[38;5;241m.\u001b[39mengine:\n\u001b[0;32m    484\u001b[0m     \u001b[38;5;28;01mraise\u001b[39;00m \u001b[38;5;167;01mValueError\u001b[39;00m(\n\u001b[0;32m    485\u001b[0m         \u001b[38;5;124m\"\u001b[39m\u001b[38;5;124mEngine should not be specified when passing \u001b[39m\u001b[38;5;124m\"\u001b[39m\n\u001b[0;32m    486\u001b[0m         \u001b[38;5;124m\"\u001b[39m\u001b[38;5;124man ExcelFile - ExcelFile already has the engine set\u001b[39m\u001b[38;5;124m\"\u001b[39m\n\u001b[0;32m    487\u001b[0m     )\n",
      "File \u001b[1;32m~\\AppData\\Local\\Programs\\Python\\Python311\\Lib\\site-packages\\pandas\\io\\excel\\_base.py:1695\u001b[0m, in \u001b[0;36mExcelFile.__init__\u001b[1;34m(self, path_or_buffer, engine, storage_options)\u001b[0m\n\u001b[0;32m   1692\u001b[0m \u001b[38;5;28mself\u001b[39m\u001b[38;5;241m.\u001b[39mengine \u001b[38;5;241m=\u001b[39m engine\n\u001b[0;32m   1693\u001b[0m \u001b[38;5;28mself\u001b[39m\u001b[38;5;241m.\u001b[39mstorage_options \u001b[38;5;241m=\u001b[39m storage_options\n\u001b[1;32m-> 1695\u001b[0m \u001b[38;5;28mself\u001b[39m\u001b[38;5;241m.\u001b[39m_reader \u001b[38;5;241m=\u001b[39m \u001b[38;5;28;43mself\u001b[39;49m\u001b[38;5;241;43m.\u001b[39;49m\u001b[43m_engines\u001b[49m\u001b[43m[\u001b[49m\u001b[43mengine\u001b[49m\u001b[43m]\u001b[49m\u001b[43m(\u001b[49m\u001b[38;5;28;43mself\u001b[39;49m\u001b[38;5;241;43m.\u001b[39;49m\u001b[43m_io\u001b[49m\u001b[43m,\u001b[49m\u001b[43m \u001b[49m\u001b[43mstorage_options\u001b[49m\u001b[38;5;241;43m=\u001b[39;49m\u001b[43mstorage_options\u001b[49m\u001b[43m)\u001b[49m\n",
      "File \u001b[1;32m~\\AppData\\Local\\Programs\\Python\\Python311\\Lib\\site-packages\\pandas\\io\\excel\\_openpyxl.py:556\u001b[0m, in \u001b[0;36mOpenpyxlReader.__init__\u001b[1;34m(self, filepath_or_buffer, storage_options)\u001b[0m\n\u001b[0;32m    541\u001b[0m \u001b[38;5;129m@doc\u001b[39m(storage_options\u001b[38;5;241m=\u001b[39m_shared_docs[\u001b[38;5;124m\"\u001b[39m\u001b[38;5;124mstorage_options\u001b[39m\u001b[38;5;124m\"\u001b[39m])\n\u001b[0;32m    542\u001b[0m \u001b[38;5;28;01mdef\u001b[39;00m \u001b[38;5;21m__init__\u001b[39m(\n\u001b[0;32m    543\u001b[0m     \u001b[38;5;28mself\u001b[39m,\n\u001b[0;32m    544\u001b[0m     filepath_or_buffer: FilePath \u001b[38;5;241m|\u001b[39m ReadBuffer[\u001b[38;5;28mbytes\u001b[39m],\n\u001b[0;32m    545\u001b[0m     storage_options: StorageOptions \u001b[38;5;241m=\u001b[39m \u001b[38;5;28;01mNone\u001b[39;00m,\n\u001b[0;32m    546\u001b[0m ) \u001b[38;5;241m-\u001b[39m\u001b[38;5;241m>\u001b[39m \u001b[38;5;28;01mNone\u001b[39;00m:\n\u001b[0;32m    547\u001b[0m \u001b[38;5;250m    \u001b[39m\u001b[38;5;124;03m\"\"\"\u001b[39;00m\n\u001b[0;32m    548\u001b[0m \u001b[38;5;124;03m    Reader using openpyxl engine.\u001b[39;00m\n\u001b[0;32m    549\u001b[0m \n\u001b[1;32m   (...)\u001b[0m\n\u001b[0;32m    554\u001b[0m \u001b[38;5;124;03m    {storage_options}\u001b[39;00m\n\u001b[0;32m    555\u001b[0m \u001b[38;5;124;03m    \"\"\"\u001b[39;00m\n\u001b[1;32m--> 556\u001b[0m     \u001b[43mimport_optional_dependency\u001b[49m\u001b[43m(\u001b[49m\u001b[38;5;124;43m\"\u001b[39;49m\u001b[38;5;124;43mopenpyxl\u001b[39;49m\u001b[38;5;124;43m\"\u001b[39;49m\u001b[43m)\u001b[49m\n\u001b[0;32m    557\u001b[0m     \u001b[38;5;28msuper\u001b[39m()\u001b[38;5;241m.\u001b[39m\u001b[38;5;21m__init__\u001b[39m(filepath_or_buffer, storage_options\u001b[38;5;241m=\u001b[39mstorage_options)\n",
      "File \u001b[1;32m~\\AppData\\Local\\Programs\\Python\\Python311\\Lib\\site-packages\\pandas\\compat\\_optional.py:144\u001b[0m, in \u001b[0;36mimport_optional_dependency\u001b[1;34m(name, extra, errors, min_version)\u001b[0m\n\u001b[0;32m    142\u001b[0m \u001b[38;5;28;01mexcept\u001b[39;00m \u001b[38;5;167;01mImportError\u001b[39;00m:\n\u001b[0;32m    143\u001b[0m     \u001b[38;5;28;01mif\u001b[39;00m errors \u001b[38;5;241m==\u001b[39m \u001b[38;5;124m\"\u001b[39m\u001b[38;5;124mraise\u001b[39m\u001b[38;5;124m\"\u001b[39m:\n\u001b[1;32m--> 144\u001b[0m         \u001b[38;5;28;01mraise\u001b[39;00m \u001b[38;5;167;01mImportError\u001b[39;00m(msg)\n\u001b[0;32m    145\u001b[0m     \u001b[38;5;28;01melse\u001b[39;00m:\n\u001b[0;32m    146\u001b[0m         \u001b[38;5;28;01mreturn\u001b[39;00m \u001b[38;5;28;01mNone\u001b[39;00m\n",
      "\u001b[1;31mImportError\u001b[0m: Missing optional dependency 'openpyxl'.  Use pip or conda to install openpyxl."
     ]
    }
   ],
   "source": [
    "# To check non-english/gliberrish data manually\n",
    "\n",
    "# Load the list of non-english gibberish indexes from an excel file checked manually\n",
    "df = pd.read_excel('C:/Users/oscar/Desktop/UM/WQD7003 Data Analytics/list_to_drop.xlsx',header=None)\n",
    "\n",
    "# Select the column of numbers\n",
    "column = df[0]\n",
    "\n",
    "# Convert the column to a list of integers\n",
    "review_to_drop = column.tolist()\n",
    "\n",
    "# Print the resulting list\n",
    "print(review_to_drop)\n",
    "\n",
    "# Print the length of the list\n",
    "print(len(review_to_drop))"
   ]
  },
  {
   "cell_type": "code",
   "execution_count": null,
   "id": "9f8ce1c4",
   "metadata": {
    "id": "9f8ce1c4",
    "outputId": "af438808-42df-4593-d96b-ecfc5f3160a2"
   },
   "outputs": [],
   "source": [
    "# #check the review that are non-english\n",
    "review_data.loc[review_to_drop,'content']"
   ]
  },
  {
   "cell_type": "code",
   "execution_count": null,
   "id": "a45a6740",
   "metadata": {
    "id": "a45a6740"
   },
   "outputs": [],
   "source": [
    "#drop first set of data\n",
    "review_data.drop(review_to_drop,inplace=True)\n",
    "\n",
    "#drop second set of data\n",
    "review_data2.drop(review_to_drop,inplace=True)"
   ]
  },
  {
   "cell_type": "code",
   "execution_count": null,
   "id": "330aecf5",
   "metadata": {
    "id": "330aecf5",
    "outputId": "86d953e1-b076-4a67-9f01-1e82c44796ae"
   },
   "outputs": [],
   "source": [
    "#To check the row of first dataset after dropping non-english/gibberish reviews\n",
    "review_data.shape"
   ]
  },
  {
   "cell_type": "code",
   "execution_count": null,
   "id": "fa6333cf",
   "metadata": {
    "id": "fa6333cf",
    "outputId": "8191b883-dd19-4a45-cba7-eca467b474a5"
   },
   "outputs": [],
   "source": [
    "#To check the row of second dataset after dropping non-english/gibberish reviews\n",
    "review_data2.shape"
   ]
  },
  {
   "cell_type": "markdown",
   "id": "0ec90974",
   "metadata": {
    "id": "0ec90974"
   },
   "source": [
    "## Exploratory Data Analysis\n",
    "\n",
    "We will perform EDA analysis to draw any insights from the dataset before it was proceed to the next phase which is Model Training.\n",
    "\n",
    "_Please note that EDA part will solely using only dataset experiment 1 for analysis._\n",
    "### Time frame of the review written\n",
    "\n",
    "We will compare the distributions of the review dates across various ratings, 1-5."
   ]
  },
  {
   "cell_type": "code",
   "execution_count": null,
   "id": "c257c642",
   "metadata": {
    "id": "c257c642"
   },
   "outputs": [],
   "source": [
    "# Create histogram subplots for each rating (1-5)\n",
    "# Each subplot represents the distribution of the dates at which the reviews were written\n",
    "def subplot_histograms(main_title, list_of_titles, xlabels, list_of_colors):\n",
    "    fig, ax = plt.subplots(5, 1, figsize=(8,10), sharex=True, sharey=True)\n",
    "    for i in range(5):\n",
    "        ax[i].hist(review_data[review_data['score']==(i+1)]['at'], bins=50, color=list_of_colors[i])\n",
    "        ax[i].set_title(list_of_titles[i], weight='bold')\n",
    "        ax[i].set_xlabel(xlabels)\n",
    "        ax[i].set_ylabel('Frequency')\n",
    "    fig.suptitle(main_title, fontsize=15, weight='bold')\n",
    "    fig.tight_layout()\n",
    "    fig.subplots_adjust(top=0.9)"
   ]
  },
  {
   "cell_type": "code",
   "execution_count": null,
   "id": "15f02c67",
   "metadata": {
    "id": "15f02c67",
    "outputId": "89fd6c7b-d084-4f9f-8866-001a687e99fe"
   },
   "outputs": [],
   "source": [
    "subplot_histograms(main_title=\"Distribution of Review Dates by Users' Ratings\",\n",
    "                   list_of_titles=['1-Star Rating','2-Star Rating','3-Star Rating','4-Star Rating','5-Star Rating'], \n",
    "                   xlabels='Date of Reviews',\n",
    "                   list_of_colors = ['#B03A2E','#CB4335','#CD6155','#16A085','#1E8449'])"
   ]
  },
  {
   "cell_type": "markdown",
   "id": "e23d8a2b",
   "metadata": {
    "id": "e23d8a2b"
   },
   "source": [
    "Based on the observation from the charts above, the distributions for each rating scores spread evenly across review dates that earliest dated back to January 2020 which is when the COVID-19 pandemic started in Malaysia. In an ideal world, we would like the reviews for each rating score to be collected in an equal quantities, over the same time period. By using the GooglePlay Scraper, despite that the reviews that we collected are not entirely in equal quantites but the gap from number of reviews between each rating score is small. In such, we are able to obtain a balanced class training set, consisting of a relatively equal split between positive and negative reviews. \n",
    "\n",
    "Another key observation that is worth to note here is the number of reviews for each rating score raised significantly between 2022 Jan and 2022 May. This may likely be a result of a newly introduced features in the apps which is MySJ Trace, another reason that can be identified is the arrival of the booster shot for vaccination."
   ]
  },
  {
   "cell_type": "code",
   "execution_count": null,
   "id": "4cb8a921",
   "metadata": {
    "id": "4cb8a921",
    "outputId": "87420f43-8e41-4259-8eb1-709e9ad23f8f"
   },
   "outputs": [],
   "source": [
    "# 324 reviews written in the context of 'vaccine'\n",
    "len(review_data[review_data['content'].str.contains('vaccine')])"
   ]
  },
  {
   "cell_type": "code",
   "execution_count": null,
   "id": "7e6cac38",
   "metadata": {
    "id": "7e6cac38",
    "outputId": "67d856c1-37b2-4171-bdaa-69b1ea9fcd3f"
   },
   "outputs": [],
   "source": [
    "pd.set_option('display.max_colwidth', None)\n",
    "\n",
    "# Reviews that mentioned the word 'vaccine'\n",
    "review_data[review_data['content'].str.contains('vaccine')][['content','score']]"
   ]
  },
  {
   "cell_type": "markdown",
   "id": "b787c621",
   "metadata": {
    "id": "b787c621"
   },
   "source": [
    "## Number of thumbs up received"
   ]
  },
  {
   "cell_type": "code",
   "execution_count": null,
   "id": "ef16c52e",
   "metadata": {
    "id": "ef16c52e",
    "outputId": "8764a57f-2f52-474b-e371-9019e1b2ba59"
   },
   "outputs": [],
   "source": [
    "# Group by rating scores and find the average no. of thumbs up per score\n",
    "review_data.groupby('score')['thumbs_up_count'].mean().plot(kind='bar', figsize=(8,5), color='skyblue')\n",
    "plt.xlabel('Ratings', fontsize=12)\n",
    "plt.xticks(rotation=0)\n",
    "plt.ylabel('Number of thumbs up', fontsize=12)\n",
    "plt.ylim(0,25)\n",
    "plt.title('Average No. of Thumbs Up Received by Rating Scores', fontsize=15, weight='bold')\n",
    "plt.tight_layout();"
   ]
  },
  {
   "cell_type": "markdown",
   "id": "ea9b636f",
   "metadata": {
    "id": "ea9b636f"
   },
   "source": [
    "Negative reviews with 1 star rating received significantly more thumbs up on average when comparing to other star rating."
   ]
  },
  {
   "cell_type": "code",
   "execution_count": null,
   "id": "92615811",
   "metadata": {
    "id": "92615811",
    "outputId": "6ca38d9a-65a3-4926-b4df-dd133b5f8c98"
   },
   "outputs": [],
   "source": [
    "# Show the top 5 reviews that received the highest number of thumbs up\n",
    "review_data[['content','thumbs_up_count','score']].sort_values(by='thumbs_up_count', ascending=False).head()"
   ]
  },
  {
   "cell_type": "markdown",
   "id": "c99051ae",
   "metadata": {
    "id": "c99051ae"
   },
   "source": [
    "## Number of meaningful words\n",
    "\n",
    "We will compare the length of the reviews among positive vs negative sentiments."
   ]
  },
  {
   "cell_type": "code",
   "execution_count": null,
   "id": "e88203d6",
   "metadata": {
    "id": "e88203d6",
    "outputId": "a17da96d-9c52-4eab-b40e-0fd98767eed0"
   },
   "outputs": [],
   "source": [
    "fig, ax = plt.subplots(2, 1, figsize=(10,8), sharex=True, sharey=True)\n",
    "\n",
    "# Plots the distribution of the length of negative reviews\n",
    "neg_len = review_data[review_data['target']==1]['content_clean_len']\n",
    "sns.distplot(neg_len, color='red', ax=ax[0])\n",
    "ax[0].axvline(neg_len.mean(), linestyle='dashed', linewidth=3, c='#2980B9') # Plot the mean line\n",
    "ax[0].text(x=neg_len.mean(),\n",
    "           y=0.08,\n",
    "           s=f'Mean: {round(neg_len.mean())}', \n",
    "           horizontalalignment='left', \n",
    "           verticalalignment='center',\n",
    "           fontsize=13)\n",
    "ax[0].set_title('No. of Meaningful Words in Negative Reviews', fontsize=15, fontweight='bold')\n",
    "ax[0].set_xlabel('No. of meaningful words', size=12)\n",
    "\n",
    "# Plots the distribution of the length of positive reviews\n",
    "pos_len = review_data[review_data['target']==0]['content_clean_len']\n",
    "sns.distplot(pos_len, color='green', ax=ax[1])\n",
    "ax[1].axvline(pos_len.mean(), linestyle='dashed', linewidth=3, c='#2980B9') # Plot the mean line\n",
    "ax[1].text(x=pos_len.mean(),\n",
    "           y=0.08,\n",
    "           s=f'Mean: {round(pos_len.mean())}', \n",
    "           horizontalalignment='left', \n",
    "           verticalalignment='center',\n",
    "           fontsize=13)\n",
    "ax[1].set_title('No. of Meaningful Words in Positive Reviews', fontsize=15, fontweight='bold')\n",
    "ax[1].set_xlabel('No. of meaningful words', size=12)\n",
    "plt.tight_layout();"
   ]
  },
  {
   "cell_type": "markdown",
   "id": "52c48fe7",
   "metadata": {
    "id": "52c48fe7"
   },
   "source": [
    "Based on the observation from the charts above, both distribution are right skewed with only a small proportion of post that have >50 meaningful words. The average number of meaningful words in negative reviews (21 words) is higher than the number of meaningful words written in positive reviews (15 words). This can further implies that dissatisfied customer are more likely to write longer reviews."
   ]
  },
  {
   "cell_type": "code",
   "execution_count": null,
   "id": "2c2b8daf",
   "metadata": {
    "id": "2c2b8daf",
    "outputId": "bf32aa13-fc4d-4aca-b07c-02b6b490fe0d"
   },
   "outputs": [],
   "source": [
    "# Number of reviews that had >40 meaningful words\n",
    "review_data[review_data['content_clean_len']>40]['target'].value_counts().sort_index()"
   ]
  },
  {
   "cell_type": "code",
   "execution_count": null,
   "id": "01f8ede4",
   "metadata": {
    "id": "01f8ede4",
    "outputId": "d96f7208-a28e-474c-b060-0d96dc456850"
   },
   "outputs": [],
   "source": [
    "review_data['target'].value_counts()"
   ]
  },
  {
   "cell_type": "code",
   "execution_count": null,
   "id": "08de0675",
   "metadata": {
    "id": "08de0675",
    "outputId": "46d4d7ce-e0a4-4e31-cc57-0d16edaba635"
   },
   "outputs": [],
   "source": [
    "194/4662"
   ]
  },
  {
   "cell_type": "markdown",
   "id": "0cfa648d",
   "metadata": {
    "id": "0cfa648d"
   },
   "source": [
    "Only about 4.16% of positive reviews have > 40 meaningful words."
   ]
  },
  {
   "cell_type": "code",
   "execution_count": null,
   "id": "c5d5d63b",
   "metadata": {
    "id": "c5d5d63b",
    "outputId": "a2119a71-7dcd-4e88-9348-e6b2a179c324"
   },
   "outputs": [],
   "source": [
    "309/2874"
   ]
  },
  {
   "cell_type": "markdown",
   "id": "b5a0888b",
   "metadata": {
    "id": "b5a0888b"
   },
   "source": [
    "About 10.8% of negative reviews have > 40 meaningful words."
   ]
  },
  {
   "cell_type": "markdown",
   "id": "b5b235b1",
   "metadata": {
    "id": "b5b235b1"
   },
   "source": [
    "## Wordclouds: Most frequently used words\n",
    "\n",
    "Word clouds are useful in visualising some of the most frequently occurring words in positive and negative reviews."
   ]
  },
  {
   "cell_type": "code",
   "execution_count": null,
   "id": "2d08371a",
   "metadata": {
    "id": "2d08371a"
   },
   "outputs": [],
   "source": [
    "# Write a function to plot a wordcloud of the most frequently occurring words\n",
    "\n",
    "def plot_wordcloud(target, title):\n",
    "    \n",
    "    # Clean text that we want to wordcloud. Target will be class 1 (negative reviews) or class 0 (positive reviews)\n",
    "    text = review_data[review_data['target']==target]['content_stem'] \n",
    "\n",
    "    wordcloud = WordCloud(width=2000, \n",
    "                          height=1000, \n",
    "                          background_color='white', \n",
    "                          max_words=50, # Maximum no. of words in the wordcloud\n",
    "                          stopwords=STOPWORDS).generate(' '.join(text)) # Remove stopwords\n",
    "    \n",
    "    plt.figure(figsize=(10,8))\n",
    "    plt.title(title, fontsize=15, weight='bold')\n",
    "    plt.imshow(wordcloud, interpolation='bilinear')\n",
    "    plt.axis('off') # Removes the axis\n",
    "    plt.tight_layout()"
   ]
  },
  {
   "cell_type": "code",
   "execution_count": null,
   "id": "a93f238d",
   "metadata": {
    "id": "a93f238d",
    "outputId": "9b07f737-42a4-4d97-88cd-611a69c249fb"
   },
   "outputs": [],
   "source": [
    "# Wordcloud of the 50 most frequently occurring words among negative reviews\n",
    "plot_wordcloud(target=1, title='Most Frequently Used Words among Negative Reviews (Ratings 1-3)')"
   ]
  },
  {
   "cell_type": "markdown",
   "id": "e88ef9c1",
   "metadata": {
    "id": "e88ef9c1"
   },
   "source": [
    "The words 'updat' and 'check' are the most frequently seen words among reviews with negative sentiments."
   ]
  },
  {
   "cell_type": "code",
   "execution_count": null,
   "id": "4a9b71d1",
   "metadata": {
    "id": "4a9b71d1",
    "outputId": "7c809ebd-3178-4a4c-a277-ef96223a91eb"
   },
   "outputs": [],
   "source": [
    "# Wordcloud of the 50 most frequently occurring words among positive reviews\n",
    "plot_wordcloud(target=0, title='Most Frequently Used Words among Positive Reviews (Ratings 4-5)')"
   ]
  },
  {
   "cell_type": "markdown",
   "id": "9b90f468",
   "metadata": {
    "id": "9b90f468"
   },
   "source": [
    "Although the words 'check' and 'update' are still on the top words seen in the reviews, words like 'thank', 'good' is showing up in positive reviews."
   ]
  },
  {
   "cell_type": "markdown",
   "id": "2e4c63a4",
   "metadata": {
    "id": "2e4c63a4"
   },
   "source": [
    "# Barplots"
   ]
  },
  {
   "cell_type": "code",
   "execution_count": null,
   "id": "b74abc04",
   "metadata": {
    "id": "b74abc04"
   },
   "outputs": [],
   "source": [
    "# Plots top 20 uni-grams and bi-grams for positive and negative reviews\n",
    "\n",
    "def barplot_cvec(target, titles, color, xlimit):\n",
    "    \n",
    "    words_series = review_data[review_data['target']==target]['content_stem']\n",
    "    \n",
    "    fig, ax = plt.subplots(1, 2, figsize=(25,12))\n",
    "    \n",
    "    ngram = [(1,1),(2,2)] # The ngrams that we would like to plot\n",
    "    \n",
    "    for i in range(2):\n",
    "            \n",
    "        # Use CountVectorizer to tokenize the text, \n",
    "        cvec = CountVectorizer(stop_words='english', ngram_range=ngram[i])\n",
    "\n",
    "        # Save the tokens in a dataframe\n",
    "        cvec_df = pd.DataFrame(cvec.fit_transform(words_series).todense(), columns=cvec.get_feature_names())\n",
    "        sum_words = cvec_df.sum(axis=0) # Sum up the no. of occurences for each word\n",
    "        top_words = sum_words.sort_values(ascending=False).head(20)\n",
    "        top_words.sort_values(ascending=True).plot(kind='barh', color=color, ax=ax[i])\n",
    "\n",
    "        # Adjust plot aesthetics\n",
    "        ax[i].set_title(titles[i], size=25, weight='bold')\n",
    "        ax[i].set_xlabel('Count', size=20)\n",
    "        ax[i].set_xlim(xlimit) # Setting a limit so that the barplots are comparable\n",
    "        ax[i].tick_params(axis='both', which='major', labelsize=20)\n",
    "        ax[i].tick_params(axis='both', which='minor', labelsize=20)\n",
    "\n",
    "    plt.tight_layout()"
   ]
  },
  {
   "cell_type": "code",
   "execution_count": null,
   "id": "da304cae",
   "metadata": {
    "id": "da304cae",
    "outputId": "22aba1ae-a2dc-4112-e33c-cc6129fe884e"
   },
   "outputs": [],
   "source": [
    "\n",
    "# Plot the uni-grams and bi-grams for negative reviews\n",
    "barplot_cvec(target=1,\n",
    "             titles=['Top 20 Uni-grams among Negative Reviews','Top 20 Bi-grams among Negative Reviews'], \n",
    "             color='#CB4335',\n",
    "             xlimit=(0,400))"
   ]
  },
  {
   "cell_type": "markdown",
   "id": "bee7f837",
   "metadata": {
    "id": "bee7f837"
   },
   "source": [
    "__'Update', 'check' and 'vaccine'__ are the top 3 most frequently occurring uni-grams in negative reviews. __'please fix' and 'reset password' and 'many time'__ are the top 3 most frequently occurring bi-grams in negative reviews. We can thus infer that the users are facing problem with resetting their password frequently on the app."
   ]
  },
  {
   "cell_type": "code",
   "execution_count": null,
   "id": "60af562f",
   "metadata": {
    "id": "60af562f",
    "outputId": "5cfefab3-8262-4c88-9883-0192405ee190"
   },
   "outputs": [],
   "source": [
    "# Showing some of the negative reviews with the word 'update'\n",
    "review_data[(review_data['target']==1) & (review_data['content_stem'].str.contains('updat'))][['content','score']].head()"
   ]
  },
  {
   "cell_type": "code",
   "execution_count": null,
   "id": "66fe817f",
   "metadata": {
    "id": "66fe817f",
    "outputId": "366e63f2-ec33-4847-db73-16477cef0298"
   },
   "outputs": [],
   "source": [
    "# Showing some of the negative reviews with the word 'vaccine'\n",
    "review_data[(review_data['target']==1) & (review_data['content_stem'].str.contains('vaccin'))][['content','score']].head()"
   ]
  },
  {
   "cell_type": "code",
   "execution_count": null,
   "id": "e588230c",
   "metadata": {
    "id": "e588230c",
    "outputId": "3b0938ba-de4f-4074-9465-2e15ab680a38"
   },
   "outputs": [],
   "source": [
    "# Plot the uni-grams and bi-grams for positive reviews\n",
    "barplot_cvec(target=0,\n",
    "             titles=['Top 20 Uni-grams among Positive Reviews','Top 20 Bi-grams among Positive Reviews'], \n",
    "             color='#239B56',\n",
    "             xlimit=(0,800))"
   ]
  },
  {
   "cell_type": "markdown",
   "id": "7347f02a",
   "metadata": {
    "id": "7347f02a"
   },
   "source": [
    "__'Check', 'Update', 'Use'__ are the top 3 most frequently seen uni-grams in positive reviews. The bi-grams also give us some context to the word __'qr code'__ and __'easi use'__, where it probably refers to an 'easy to use' apps by the users."
   ]
  },
  {
   "cell_type": "code",
   "execution_count": null,
   "id": "6f640141",
   "metadata": {
    "id": "6f640141",
    "outputId": "630b4a12-76dd-42e9-d823-7c0dcad24e3d"
   },
   "outputs": [],
   "source": [
    "# Showing some of the positive reviews with the word 'use'\n",
    "review_data[(review_data['target']==0) & (review_data['content_stem'].str.contains('use'))][['content','score']].head()"
   ]
  },
  {
   "cell_type": "code",
   "execution_count": null,
   "id": "1b13fe8f",
   "metadata": {
    "id": "1b13fe8f",
    "outputId": "aa9c03ab-6be3-4ffc-87d2-bc1f3aedc94f"
   },
   "outputs": [],
   "source": [
    "# Showing some of the positive reviews with the word 'check'\n",
    "review_data[(review_data['target']==0) & (review_data['content_stem'].str.contains('check'))][['content','score']].head()"
   ]
  },
  {
   "cell_type": "markdown",
   "id": "fa16e9cd",
   "metadata": {
    "id": "fa16e9cd"
   },
   "source": [
    "## Save both two set of dataset for modelling"
   ]
  },
  {
   "cell_type": "code",
   "execution_count": null,
   "id": "a64769c0",
   "metadata": {
    "id": "a64769c0"
   },
   "outputs": [],
   "source": [
    "# export dataset out\n",
    "\n",
    "review_data.to_csv('dataset experiment_1.csv')\n",
    "review_data2.to_csv('dataset experiment_2.csv')"
   ]
  }
 ],
 "metadata": {
  "colab": {
   "provenance": []
  },
  "kernelspec": {
   "display_name": "Python 3 (ipykernel)",
   "language": "python",
   "name": "python3"
  },
  "language_info": {
   "codemirror_mode": {
    "name": "ipython",
    "version": 3
   },
   "file_extension": ".py",
   "mimetype": "text/x-python",
   "name": "python",
   "nbconvert_exporter": "python",
   "pygments_lexer": "ipython3",
   "version": "3.11.1"
  }
 },
 "nbformat": 4,
 "nbformat_minor": 5
}
